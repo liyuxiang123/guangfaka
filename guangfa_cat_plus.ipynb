{
 "cells": [
  {
   "cell_type": "code",
   "execution_count": 1,
   "metadata": {},
   "outputs": [
    {
     "name": "stdout",
     "output_type": "stream",
     "text": [
      "(256327, 38)\n",
      "(28480, 38)\n"
     ]
    },
    {
     "name": "stderr",
     "output_type": "stream",
     "text": [
      "Warning: Overfitting detector is active, thus evaluation metric is calculated on every iteration. 'metric_period' is ignored for evaluation metric.\n"
     ]
    },
    {
     "name": "stdout",
     "output_type": "stream",
     "text": [
      "0:\ttest: 0.9557861\tbest: 0.9557861 (0)\ttotal: 462ms\tremaining: 3m 50s\n",
      "50:\ttest: 0.9768442\tbest: 0.9768442 (50)\ttotal: 17.5s\tremaining: 2m 33s\n",
      "100:\ttest: 0.9786028\tbest: 0.9793894 (84)\ttotal: 36.1s\tremaining: 2m 22s\n",
      "150:\ttest: 0.9772216\tbest: 0.9793894 (84)\ttotal: 53.8s\tremaining: 2m 4s\n",
      "200:\ttest: 0.9791262\tbest: 0.9799234 (185)\ttotal: 1m 11s\tremaining: 1m 46s\n",
      "250:\ttest: 0.9789227\tbest: 0.9799234 (185)\ttotal: 1m 30s\tremaining: 1m 29s\n",
      "Stopped by overfitting detector  (100 iterations wait)\n",
      "\n",
      "bestTest = 0.9799233899\n",
      "bestIteration = 185\n",
      "\n",
      "Shrink model to first 186 iterations.\n"
     ]
    },
    {
     "ename": "Exception",
     "evalue": "Data must be 1-dimensional",
     "output_type": "error",
     "traceback": [
      "\u001b[0;31m\u001b[0m",
      "\u001b[0;31mException\u001b[0mTraceback (most recent call last)",
      "\u001b[0;32m<ipython-input-1-168684c1133d>\u001b[0m in \u001b[0;36m<module>\u001b[0;34m()\u001b[0m\n\u001b[1;32m    119\u001b[0m     \u001b[0mapscore\u001b[0m\u001b[0;34m.\u001b[0m\u001b[0mappend\u001b[0m\u001b[0;34m(\u001b[0m\u001b[0maverage_precision_score\u001b[0m\u001b[0;34m(\u001b[0m\u001b[0my_val\u001b[0m\u001b[0;34m,\u001b[0m\u001b[0mxx_pred\u001b[0m\u001b[0;34m,\u001b[0m\u001b[0maverage\u001b[0m\u001b[0;34m=\u001b[0m\u001b[0;34m'weighted'\u001b[0m\u001b[0;34m)\u001b[0m\u001b[0;34m)\u001b[0m\u001b[0;34m\u001b[0m\u001b[0m\n\u001b[1;32m    120\u001b[0m \u001b[0;34m\u001b[0m\u001b[0m\n\u001b[0;32m--> 121\u001b[0;31m     \u001b[0mcut\u001b[0m\u001b[0;34m,\u001b[0m\u001b[0mbest_score\u001b[0m \u001b[0;34m=\u001b[0m \u001b[0msearchBestCut\u001b[0m\u001b[0;34m(\u001b[0m\u001b[0my_val\u001b[0m\u001b[0;34m,\u001b[0m\u001b[0mxx_pred\u001b[0m\u001b[0;34m)\u001b[0m\u001b[0;34m\u001b[0m\u001b[0m\n\u001b[0m\u001b[1;32m    122\u001b[0m     \u001b[0mfscore\u001b[0m\u001b[0;34m.\u001b[0m\u001b[0mappend\u001b[0m\u001b[0;34m(\u001b[0m\u001b[0mbest_score\u001b[0m\u001b[0;34m)\u001b[0m\u001b[0;34m\u001b[0m\u001b[0m\n\u001b[1;32m    123\u001b[0m     \u001b[0mcate\u001b[0m\u001b[0;34m[\u001b[0m\u001b[0;34m'cate_'\u001b[0m\u001b[0;34m+\u001b[0m\u001b[0mstr\u001b[0m\u001b[0;34m(\u001b[0m\u001b[0mnum\u001b[0m\u001b[0;34m)\u001b[0m\u001b[0;34m]\u001b[0m \u001b[0;34m=\u001b[0m \u001b[0;34m(\u001b[0m\u001b[0mpd\u001b[0m\u001b[0;34m.\u001b[0m\u001b[0mSeries\u001b[0m\u001b[0;34m(\u001b[0m\u001b[0mtest_ypre\u001b[0m\u001b[0;34m)\u001b[0m\u001b[0;34m>=\u001b[0m\u001b[0mcut\u001b[0m\u001b[0;34m)\u001b[0m\u001b[0;34m.\u001b[0m\u001b[0mastype\u001b[0m\u001b[0;34m(\u001b[0m\u001b[0mint\u001b[0m\u001b[0;34m)\u001b[0m\u001b[0;34m\u001b[0m\u001b[0m\n",
      "\u001b[0;32m<ipython-input-1-168684c1133d>\u001b[0m in \u001b[0;36msearchBestCut\u001b[0;34m(ytrue, ypre)\u001b[0m\n\u001b[1;32m     78\u001b[0m     \u001b[0mlst\u001b[0m \u001b[0;34m=\u001b[0m \u001b[0;34m[\u001b[0m\u001b[0;34m]\u001b[0m\u001b[0;34m\u001b[0m\u001b[0m\n\u001b[1;32m     79\u001b[0m     \u001b[0;32mfor\u001b[0m \u001b[0mi\u001b[0m \u001b[0;32min\u001b[0m \u001b[0mrange\u001b[0m\u001b[0;34m(\u001b[0m\u001b[0;36m10\u001b[0m\u001b[0;34m,\u001b[0m\u001b[0;36m81\u001b[0m\u001b[0;34m,\u001b[0m\u001b[0;36m1\u001b[0m\u001b[0;34m)\u001b[0m\u001b[0;34m:\u001b[0m\u001b[0;34m\u001b[0m\u001b[0m\n\u001b[0;32m---> 80\u001b[0;31m         \u001b[0mlst\u001b[0m\u001b[0;34m.\u001b[0m\u001b[0mappend\u001b[0m\u001b[0;34m(\u001b[0m\u001b[0mf1_score\u001b[0m\u001b[0;34m(\u001b[0m\u001b[0mytrue\u001b[0m\u001b[0;34m,\u001b[0m\u001b[0;34m(\u001b[0m\u001b[0mpd\u001b[0m\u001b[0;34m.\u001b[0m\u001b[0mSeries\u001b[0m\u001b[0;34m(\u001b[0m\u001b[0mypre\u001b[0m\u001b[0;34m)\u001b[0m\u001b[0;34m>=\u001b[0m\u001b[0mi\u001b[0m\u001b[0;34m*\u001b[0m\u001b[0;36m0.01\u001b[0m\u001b[0;34m)\u001b[0m\u001b[0;34m.\u001b[0m\u001b[0mastype\u001b[0m\u001b[0;34m(\u001b[0m\u001b[0mint\u001b[0m\u001b[0;34m)\u001b[0m\u001b[0;34m.\u001b[0m\u001b[0mvalues\u001b[0m\u001b[0;34m)\u001b[0m\u001b[0;34m)\u001b[0m\u001b[0;34m\u001b[0m\u001b[0m\n\u001b[0m\u001b[1;32m     81\u001b[0m     \u001b[0mse\u001b[0m \u001b[0;34m=\u001b[0m \u001b[0mpd\u001b[0m\u001b[0;34m.\u001b[0m\u001b[0mSeries\u001b[0m\u001b[0;34m(\u001b[0m\u001b[0mlst\u001b[0m\u001b[0;34m,\u001b[0m\u001b[0mindex\u001b[0m\u001b[0;34m=\u001b[0m\u001b[0mrange\u001b[0m\u001b[0;34m(\u001b[0m\u001b[0;36m10\u001b[0m\u001b[0;34m,\u001b[0m\u001b[0;36m81\u001b[0m\u001b[0;34m,\u001b[0m\u001b[0;36m1\u001b[0m\u001b[0;34m)\u001b[0m\u001b[0;34m)\u001b[0m\u001b[0;34m.\u001b[0m\u001b[0msort_values\u001b[0m\u001b[0;34m(\u001b[0m\u001b[0;34m)\u001b[0m\u001b[0;34m\u001b[0m\u001b[0m\n\u001b[1;32m     82\u001b[0m     \u001b[0;32mreturn\u001b[0m \u001b[0;34m(\u001b[0m\u001b[0mse\u001b[0m\u001b[0;34m.\u001b[0m\u001b[0mindex\u001b[0m\u001b[0;34m[\u001b[0m\u001b[0;34m-\u001b[0m\u001b[0;36m1\u001b[0m\u001b[0;34m]\u001b[0m\u001b[0;34m)\u001b[0m\u001b[0;34m*\u001b[0m\u001b[0;36m0.01\u001b[0m\u001b[0;34m,\u001b[0m\u001b[0mse\u001b[0m\u001b[0;34m.\u001b[0m\u001b[0mvalues\u001b[0m\u001b[0;34m[\u001b[0m\u001b[0;34m-\u001b[0m\u001b[0;36m1\u001b[0m\u001b[0;34m]\u001b[0m\u001b[0;34m\u001b[0m\u001b[0m\n",
      "\u001b[0;32m/usr/local/lib/python2.7/dist-packages/pandas/core/series.pyc\u001b[0m in \u001b[0;36m__init__\u001b[0;34m(self, data, index, dtype, name, copy, fastpath)\u001b[0m\n\u001b[1;32m    273\u001b[0m             \u001b[0;32melse\u001b[0m\u001b[0;34m:\u001b[0m\u001b[0;34m\u001b[0m\u001b[0m\n\u001b[1;32m    274\u001b[0m                 data = _sanitize_array(data, index, dtype, copy,\n\u001b[0;32m--> 275\u001b[0;31m                                        raise_cast_failure=True)\n\u001b[0m\u001b[1;32m    276\u001b[0m \u001b[0;34m\u001b[0m\u001b[0m\n\u001b[1;32m    277\u001b[0m                 \u001b[0mdata\u001b[0m \u001b[0;34m=\u001b[0m \u001b[0mSingleBlockManager\u001b[0m\u001b[0;34m(\u001b[0m\u001b[0mdata\u001b[0m\u001b[0;34m,\u001b[0m \u001b[0mindex\u001b[0m\u001b[0;34m,\u001b[0m \u001b[0mfastpath\u001b[0m\u001b[0;34m=\u001b[0m\u001b[0mTrue\u001b[0m\u001b[0;34m)\u001b[0m\u001b[0;34m\u001b[0m\u001b[0m\n",
      "\u001b[0;32m/usr/local/lib/python2.7/dist-packages/pandas/core/series.pyc\u001b[0m in \u001b[0;36m_sanitize_array\u001b[0;34m(data, index, dtype, copy, raise_cast_failure)\u001b[0m\n\u001b[1;32m   4163\u001b[0m     \u001b[0;32melif\u001b[0m \u001b[0msubarr\u001b[0m\u001b[0;34m.\u001b[0m\u001b[0mndim\u001b[0m \u001b[0;34m>\u001b[0m \u001b[0;36m1\u001b[0m\u001b[0;34m:\u001b[0m\u001b[0;34m\u001b[0m\u001b[0m\n\u001b[1;32m   4164\u001b[0m         \u001b[0;32mif\u001b[0m \u001b[0misinstance\u001b[0m\u001b[0;34m(\u001b[0m\u001b[0mdata\u001b[0m\u001b[0;34m,\u001b[0m \u001b[0mnp\u001b[0m\u001b[0;34m.\u001b[0m\u001b[0mndarray\u001b[0m\u001b[0;34m)\u001b[0m\u001b[0;34m:\u001b[0m\u001b[0;34m\u001b[0m\u001b[0m\n\u001b[0;32m-> 4165\u001b[0;31m             \u001b[0;32mraise\u001b[0m \u001b[0mException\u001b[0m\u001b[0;34m(\u001b[0m\u001b[0;34m'Data must be 1-dimensional'\u001b[0m\u001b[0;34m)\u001b[0m\u001b[0;34m\u001b[0m\u001b[0m\n\u001b[0m\u001b[1;32m   4166\u001b[0m         \u001b[0;32melse\u001b[0m\u001b[0;34m:\u001b[0m\u001b[0;34m\u001b[0m\u001b[0m\n\u001b[1;32m   4167\u001b[0m             \u001b[0msubarr\u001b[0m \u001b[0;34m=\u001b[0m \u001b[0mcom\u001b[0m\u001b[0;34m.\u001b[0m\u001b[0m_asarray_tuplesafe\u001b[0m\u001b[0;34m(\u001b[0m\u001b[0mdata\u001b[0m\u001b[0;34m,\u001b[0m \u001b[0mdtype\u001b[0m\u001b[0;34m=\u001b[0m\u001b[0mdtype\u001b[0m\u001b[0;34m)\u001b[0m\u001b[0;34m\u001b[0m\u001b[0m\n",
      "\u001b[0;31mException\u001b[0m: Data must be 1-dimensional"
     ]
    }
   ],
   "source": [
    "import pandas as pd\n",
    "import numpy as np\n",
    "from sklearn.metrics import f1_score,average_precision_score\n",
    "import lightgbm as lgb\n",
    "import catboost as cb\n",
    "from sklearn.model_selection import StratifiedKFold\n",
    "import warnings\n",
    "warnings.filterwarnings('ignore')\n",
    "\n",
    "train_x = pd.read_csv('creditcard_train.csv')\n",
    "test_x = pd.read_csv('creditcard_test.csv')\n",
    "res = test_x[['Index']]\n",
    "del train_x['Index']\n",
    "del test_x['Index']\n",
    "\n",
    "test_x['Class'] = -1\n",
    "data = pd.concat([train_x,test_x],axis=0,ignore_index=True)\n",
    "train_index = data[data['Class']!=-1].index.tolist()\n",
    "test_index = data[data['Class']==-1].index.tolist()\n",
    "data['Time'] = data['Time'].astype(int)\n",
    "data['Day'] = (data['Time']//(3600*24)).astype(int)\n",
    "data['Hour'] = ((data['Time']-data['Day']*24*3600)//(3600)).astype(int)\n",
    "\n",
    "\n",
    "\n",
    "def get_pywt_1(x):\n",
    "    import pywt\n",
    "    db1 = pywt.Wavelet('db1')\n",
    "    A= pywt.wavedec(x, db1,level=4)\n",
    "    return A[0][0]\n",
    "def get_pywt_2(x):\n",
    "    import pywt\n",
    "    db1 = pywt.Wavelet('db1')\n",
    "    A= pywt.wavedec(x, db1,level=4)\n",
    "    return A[0][1]\n",
    "def get_pywt_3(x):\n",
    "    import pywt\n",
    "    db1 = pywt.Wavelet('db1')\n",
    "    A= pywt.wavedec(x, db1,level=4)\n",
    "    return A[1][0]\n",
    "def get_pywt_4(x):\n",
    "    import pywt\n",
    "    db1 = pywt.Wavelet('db1')\n",
    "    A= pywt.wavedec(x, db1,level=4)\n",
    "    return A[1][1]\n",
    "columns=['V'+str(i) for i in range(1,29)]\n",
    "data['xiao1']=data[columns].apply(get_pywt_1,axis=1)\n",
    "data['xiao2']=data[columns].apply(get_pywt_2,axis=1)\n",
    "data['xiao3']=data[columns].apply(get_pywt_3,axis=1)\n",
    "data['xiao4']=data[columns].apply(get_pywt_4,axis=1)\n",
    "\n",
    "\n",
    "pca_cols = []\n",
    "for i in range(1,29):\n",
    "    pca_cols.append('V'+str(i))\n",
    "def getFeature(x):\n",
    "    return ' '.join(x.astype(str).values.tolist())\n",
    "se  = data[pca_cols].apply(getFeature,axis=1)\n",
    "st = pd.Series(se.drop_duplicates().values)\n",
    "\n",
    "data['Id'] = se.map(pd.Series(st.index,index=st.values))\n",
    "\n",
    "for co in ['Id','Amount']:\n",
    "    data[co+'_ount'] = data[co].map(data[co].value_counts())\n",
    "\n",
    "train_x = data.drop(['Id'],axis=1).loc[train_index].reset_index(drop=True)\n",
    "test_x = data.drop(['Id'],axis=1).loc[test_index].reset_index(drop=True)\n",
    "train_y = train_x.pop('Class')\n",
    "\n",
    "\n",
    "\n",
    "\n",
    "del test_x['Class']\n",
    "print(train_x.shape)\n",
    "print(test_x.shape)"
   ]
  },
  {
   "cell_type": "code",
   "execution_count": 19,
   "metadata": {
    "scrolled": true
   },
   "outputs": [
    {
     "name": "stderr",
     "output_type": "stream",
     "text": [
      "Warning: Overfitting detector is active, thus evaluation metric is calculated on every iteration. 'metric_period' is ignored for evaluation metric.\n"
     ]
    },
    {
     "name": "stdout",
     "output_type": "stream",
     "text": [
      "0:\ttest: 0.9557861\tbest: 0.9557861 (0)\ttotal: 187ms\tremaining: 1m 33s\n",
      "50:\ttest: 0.9768442\tbest: 0.9768442 (50)\ttotal: 12.8s\tremaining: 1m 52s\n",
      "100:\ttest: 0.9786028\tbest: 0.9793894 (84)\ttotal: 26.7s\tremaining: 1m 45s\n",
      "150:\ttest: 0.9772216\tbest: 0.9793894 (84)\ttotal: 40.6s\tremaining: 1m 33s\n",
      "200:\ttest: 0.9791262\tbest: 0.9799234 (185)\ttotal: 55.6s\tremaining: 1m 22s\n",
      "250:\ttest: 0.9789227\tbest: 0.9799234 (185)\ttotal: 1m 9s\tremaining: 1m 8s\n",
      "Stopped by overfitting detector  (100 iterations wait)\n",
      "\n",
      "bestTest = 0.9799233899\n",
      "bestIteration = 185\n",
      "\n",
      "Shrink model to first 186 iterations.\n"
     ]
    },
    {
     "name": "stderr",
     "output_type": "stream",
     "text": [
      "Warning: Overfitting detector is active, thus evaluation metric is calculated on every iteration. 'metric_period' is ignored for evaluation metric.\n"
     ]
    },
    {
     "name": "stdout",
     "output_type": "stream",
     "text": [
      "0:\ttest: 0.9264799\tbest: 0.9264799 (0)\ttotal: 362ms\tremaining: 3m\n",
      "50:\ttest: 0.9681660\tbest: 0.9683816 (49)\ttotal: 14.4s\tremaining: 2m 6s\n",
      "100:\ttest: 0.9808358\tbest: 0.9812901 (96)\ttotal: 27.2s\tremaining: 1m 47s\n",
      "150:\ttest: 0.9838321\tbest: 0.9839219 (149)\ttotal: 41.4s\tremaining: 1m 35s\n",
      "200:\ttest: 0.9840470\tbest: 0.9847364 (180)\ttotal: 54.2s\tremaining: 1m 20s\n",
      "250:\ttest: 0.9820076\tbest: 0.9847364 (180)\ttotal: 1m 8s\tremaining: 1m 7s\n",
      "Stopped by overfitting detector  (100 iterations wait)\n",
      "\n",
      "bestTest = 0.9847363842\n",
      "bestIteration = 180\n",
      "\n",
      "Shrink model to first 181 iterations.\n"
     ]
    },
    {
     "name": "stderr",
     "output_type": "stream",
     "text": [
      "Warning: Overfitting detector is active, thus evaluation metric is calculated on every iteration. 'metric_period' is ignored for evaluation metric.\n"
     ]
    },
    {
     "name": "stdout",
     "output_type": "stream",
     "text": [
      "0:\ttest: 0.9323340\tbest: 0.9323340 (0)\ttotal: 379ms\tremaining: 3m 9s\n",
      "50:\ttest: 0.9843015\tbest: 0.9850813 (35)\ttotal: 16.4s\tremaining: 2m 24s\n",
      "100:\ttest: 0.9818963\tbest: 0.9850813 (35)\ttotal: 28.5s\tremaining: 1m 52s\n",
      "Stopped by overfitting detector  (100 iterations wait)\n",
      "\n",
      "bestTest = 0.9850812986\n",
      "bestIteration = 35\n",
      "\n",
      "Shrink model to first 36 iterations.\n"
     ]
    },
    {
     "name": "stderr",
     "output_type": "stream",
     "text": [
      "Warning: Overfitting detector is active, thus evaluation metric is calculated on every iteration. 'metric_period' is ignored for evaluation metric.\n"
     ]
    },
    {
     "name": "stdout",
     "output_type": "stream",
     "text": [
      "0:\ttest: 0.9337383\tbest: 0.9337383 (0)\ttotal: 130ms\tremaining: 1m 4s\n",
      "50:\ttest: 0.9649165\tbest: 0.9653795 (47)\ttotal: 12.7s\tremaining: 1m 51s\n",
      "100:\ttest: 0.9701626\tbest: 0.9704513 (99)\ttotal: 25.8s\tremaining: 1m 41s\n",
      "150:\ttest: 0.9729506\tbest: 0.9743195 (130)\ttotal: 38.6s\tremaining: 1m 29s\n",
      "200:\ttest: 0.9748953\tbest: 0.9758527 (181)\ttotal: 51.2s\tremaining: 1m 16s\n",
      "250:\ttest: 0.9749863\tbest: 0.9758527 (181)\ttotal: 1m 3s\tremaining: 1m 3s\n",
      "Stopped by overfitting detector  (100 iterations wait)\n",
      "\n",
      "bestTest = 0.9758527446\n",
      "bestIteration = 181\n",
      "\n",
      "Shrink model to first 182 iterations.\n"
     ]
    },
    {
     "name": "stderr",
     "output_type": "stream",
     "text": [
      "Warning: Overfitting detector is active, thus evaluation metric is calculated on every iteration. 'metric_period' is ignored for evaluation metric.\n"
     ]
    },
    {
     "name": "stdout",
     "output_type": "stream",
     "text": [
      "0:\ttest: 0.9461038\tbest: 0.9461038 (0)\ttotal: 146ms\tremaining: 1m 12s\n",
      "50:\ttest: 0.9818025\tbest: 0.9818025 (50)\ttotal: 13.6s\tremaining: 1m 59s\n",
      "100:\ttest: 0.9826217\tbest: 0.9835146 (65)\ttotal: 26.3s\tremaining: 1m 43s\n",
      "150:\ttest: 0.9834255\tbest: 0.9835146 (65)\ttotal: 39.5s\tremaining: 1m 31s\n",
      "200:\ttest: 0.9835954\tbest: 0.9839422 (188)\ttotal: 52.1s\tremaining: 1m 17s\n",
      "250:\ttest: 0.9845990\tbest: 0.9848060 (242)\ttotal: 1m 5s\tremaining: 1m 4s\n",
      "300:\ttest: 0.9853705\tbest: 0.9854200 (297)\ttotal: 1m 16s\tremaining: 50.5s\n",
      "350:\ttest: 0.9859074\tbest: 0.9860637 (327)\ttotal: 1m 30s\tremaining: 38.3s\n",
      "400:\ttest: 0.9859225\tbest: 0.9865471 (390)\ttotal: 1m 43s\tremaining: 25.4s\n",
      "450:\ttest: 0.9860717\tbest: 0.9865471 (390)\ttotal: 1m 57s\tremaining: 12.7s\n",
      "Stopped by overfitting detector  (100 iterations wait)\n",
      "\n",
      "bestTest = 0.9865470942\n",
      "bestIteration = 390\n",
      "\n",
      "Shrink model to first 391 iterations.\n",
      "[0.8982797682150906, 0.8250267642221921, 0.830060000314953, 0.8331338115158007, 0.929535631916322]\n",
      "0.8632071952368717\n",
      "[0.8786127167630058, 0.8502994011976048, 0.8658536585365854, 0.8571428571428572, 0.9397590361445783]\n",
      "0.8783335339569263\n"
     ]
    },
    {
     "ename": "IOError",
     "evalue": "[Errno 2] No such file or directory: 'result/Test_Pred_Class_Cat.csv'",
     "output_type": "error",
     "traceback": [
      "\u001b[0;31m\u001b[0m",
      "\u001b[0;31mIOError\u001b[0mTraceback (most recent call last)",
      "\u001b[0;32m<ipython-input-19-d0a495be6e84>\u001b[0m in \u001b[0;36m<module>\u001b[0;34m()\u001b[0m\n\u001b[1;32m     55\u001b[0m \u001b[0mres\u001b[0m\u001b[0;34m[\u001b[0m\u001b[0;34m'Pred'\u001b[0m\u001b[0;34m]\u001b[0m \u001b[0;34m=\u001b[0m \u001b[0mprob\u001b[0m\u001b[0;34m.\u001b[0m\u001b[0mmean\u001b[0m\u001b[0;34m(\u001b[0m\u001b[0;36m1\u001b[0m\u001b[0;34m)\u001b[0m\u001b[0;34m\u001b[0m\u001b[0m\n\u001b[1;32m     56\u001b[0m \u001b[0mres\u001b[0m\u001b[0;34m[\u001b[0m\u001b[0;34m'Class'\u001b[0m\u001b[0;34m]\u001b[0m \u001b[0;34m=\u001b[0m \u001b[0;34m(\u001b[0m\u001b[0mcate\u001b[0m\u001b[0;34m.\u001b[0m\u001b[0mmean\u001b[0m\u001b[0;34m(\u001b[0m\u001b[0;36m1\u001b[0m\u001b[0;34m)\u001b[0m\u001b[0;34m>=\u001b[0m\u001b[0;36m0.6\u001b[0m\u001b[0;34m)\u001b[0m\u001b[0;34m.\u001b[0m\u001b[0mastype\u001b[0m\u001b[0;34m(\u001b[0m\u001b[0mint\u001b[0m\u001b[0;34m)\u001b[0m\u001b[0;34m\u001b[0m\u001b[0m\n\u001b[0;32m---> 57\u001b[0;31m \u001b[0mres\u001b[0m\u001b[0;34m.\u001b[0m\u001b[0mto_csv\u001b[0m\u001b[0;34m(\u001b[0m\u001b[0;34m'result/Test_Pred_Class_Cat.csv'\u001b[0m\u001b[0;34m,\u001b[0m\u001b[0mindex\u001b[0m\u001b[0;34m=\u001b[0m\u001b[0mFalse\u001b[0m\u001b[0;34m)\u001b[0m\u001b[0;34m\u001b[0m\u001b[0m\n\u001b[0m",
      "\u001b[0;32m/usr/local/lib/python2.7/dist-packages/pandas/core/frame.pyc\u001b[0m in \u001b[0;36mto_csv\u001b[0;34m(self, path_or_buf, sep, na_rep, float_format, columns, header, index, index_label, mode, encoding, compression, quoting, quotechar, line_terminator, chunksize, tupleize_cols, date_format, doublequote, escapechar, decimal)\u001b[0m\n\u001b[1;32m   1743\u001b[0m                                  \u001b[0mdoublequote\u001b[0m\u001b[0;34m=\u001b[0m\u001b[0mdoublequote\u001b[0m\u001b[0;34m,\u001b[0m\u001b[0;34m\u001b[0m\u001b[0m\n\u001b[1;32m   1744\u001b[0m                                  escapechar=escapechar, decimal=decimal)\n\u001b[0;32m-> 1745\u001b[0;31m         \u001b[0mformatter\u001b[0m\u001b[0;34m.\u001b[0m\u001b[0msave\u001b[0m\u001b[0;34m(\u001b[0m\u001b[0;34m)\u001b[0m\u001b[0;34m\u001b[0m\u001b[0m\n\u001b[0m\u001b[1;32m   1746\u001b[0m \u001b[0;34m\u001b[0m\u001b[0m\n\u001b[1;32m   1747\u001b[0m         \u001b[0;32mif\u001b[0m \u001b[0mpath_or_buf\u001b[0m \u001b[0;32mis\u001b[0m \u001b[0mNone\u001b[0m\u001b[0;34m:\u001b[0m\u001b[0;34m\u001b[0m\u001b[0m\n",
      "\u001b[0;32m/usr/local/lib/python2.7/dist-packages/pandas/io/formats/csvs.pyc\u001b[0m in \u001b[0;36msave\u001b[0;34m(self)\u001b[0m\n\u001b[1;32m    154\u001b[0m             f, handles = _get_handle(self.path_or_buf, self.mode,\n\u001b[1;32m    155\u001b[0m                                      \u001b[0mencoding\u001b[0m\u001b[0;34m=\u001b[0m\u001b[0mencoding\u001b[0m\u001b[0;34m,\u001b[0m\u001b[0;34m\u001b[0m\u001b[0m\n\u001b[0;32m--> 156\u001b[0;31m                                      compression=self.compression)\n\u001b[0m\u001b[1;32m    157\u001b[0m             \u001b[0mclose\u001b[0m \u001b[0;34m=\u001b[0m \u001b[0mTrue\u001b[0m\u001b[0;34m\u001b[0m\u001b[0m\n\u001b[1;32m    158\u001b[0m \u001b[0;34m\u001b[0m\u001b[0m\n",
      "\u001b[0;32m/usr/local/lib/python2.7/dist-packages/pandas/io/common.pyc\u001b[0m in \u001b[0;36m_get_handle\u001b[0;34m(path_or_buf, mode, encoding, compression, memory_map, is_text)\u001b[0m\n\u001b[1;32m    395\u001b[0m         \u001b[0;32mif\u001b[0m \u001b[0mcompat\u001b[0m\u001b[0;34m.\u001b[0m\u001b[0mPY2\u001b[0m\u001b[0;34m:\u001b[0m\u001b[0;34m\u001b[0m\u001b[0m\n\u001b[1;32m    396\u001b[0m             \u001b[0;31m# Python 2\u001b[0m\u001b[0;34m\u001b[0m\u001b[0;34m\u001b[0m\u001b[0m\n\u001b[0;32m--> 397\u001b[0;31m             \u001b[0mf\u001b[0m \u001b[0;34m=\u001b[0m \u001b[0mopen\u001b[0m\u001b[0;34m(\u001b[0m\u001b[0mpath_or_buf\u001b[0m\u001b[0;34m,\u001b[0m \u001b[0mmode\u001b[0m\u001b[0;34m)\u001b[0m\u001b[0;34m\u001b[0m\u001b[0m\n\u001b[0m\u001b[1;32m    398\u001b[0m         \u001b[0;32melif\u001b[0m \u001b[0mencoding\u001b[0m\u001b[0;34m:\u001b[0m\u001b[0;34m\u001b[0m\u001b[0m\n\u001b[1;32m    399\u001b[0m             \u001b[0;31m# Python 3 and encoding\u001b[0m\u001b[0;34m\u001b[0m\u001b[0;34m\u001b[0m\u001b[0m\n",
      "\u001b[0;31mIOError\u001b[0m: [Errno 2] No such file or directory: 'result/Test_Pred_Class_Cat.csv'"
     ]
    }
   ],
   "source": [
    "def searchBestCut(ytrue,ypre):\n",
    "    lst = []\n",
    "    for i in range(10,81,1):\n",
    "        lst.append(f1_score(ytrue,(pd.Series(ypre)>=i*0.01).astype(int).values))\n",
    "    se = pd.Series(lst,index=range(10,81,1)).sort_values()\n",
    "    return (se.index[-1])*0.01,se.values[-1]\n",
    "prob = pd.DataFrame()\n",
    "cate = pd.DataFrame()\n",
    "num = 0\n",
    "apscore = []\n",
    "fscore = []\n",
    "\n",
    "X = np.array(train_x)\n",
    "Y = np.array(train_y)\n",
    "X_test = np.array(test_x)\n",
    "\n",
    "skf = StratifiedKFold(n_splits=5,random_state=2020,shuffle=True)\n",
    "for train_part_index,evals_index in skf.split(train_x,train_y):\n",
    "    EVAL_RESULT = {}\n",
    "    X_train, X_val, y_train, y_val = X[train_part_index], X[evals_index], Y[train_part_index], Y[evals_index]\n",
    "\n",
    "    model = cb.CatBoostClassifier( iterations=500,\n",
    "                                   depth = 8,\n",
    "                                   learning_rate = 0.1,\n",
    "                                   custom_loss='AUC',\n",
    "                                   eval_metric='AUC',\n",
    "                                   bagging_temperature=0.83,\n",
    "                                   od_type='Iter',\n",
    "                                   rsm = 0.8,\n",
    "                                   od_wait= 100,\n",
    "                                   metric_period = 50,\n",
    "                                   l2_leaf_reg = 5,\n",
    "                                   thread_count = 50,\n",
    "                                   random_seed = 2018\n",
    "                              )\n",
    "\n",
    "    model.fit(X_train, y_train, eval_set=(X_val, y_val),use_best_model=True)\n",
    "    \n",
    "    xx_pred = model.predict_proba(X_val)[:,1].reshape((X_val.shape[0],1))\n",
    "    test_ypre = model.predict_proba(X_test)[:,1].reshape((X_test.shape[0],1))\n",
    "    num+=1\n",
    "\n",
    "    apscore.append(average_precision_score(y_val,xx_pred,average='weighted'))\n",
    "    \n",
    "    cut,best_score = searchBestCut(y_val,xx_pred[:,0])\n",
    "    fscore.append(best_score)\n",
    "    cate['cate_'+str(num)] = (pd.Series(test_ypre[:,0])>=cut).astype(int)\n",
    "    prob['prob_'+str(num)]=test_ypre[:,0]\n",
    "    \n",
    "\n",
    "print(apscore)\n",
    "print(sum(apscore)/5)\n",
    "print(fscore)\n",
    "print(sum(fscore)/5)\n",
    "res['Pred'] = prob.mean(1)\n",
    "res['Class'] = (cate.mean(1)>=0.6).astype(int)\n",
    "res.to_csv('result/Test_Pred_Class_Cat.csv',index=False)"
   ]
  },
  {
   "cell_type": "code",
   "execution_count": 21,
   "metadata": {},
   "outputs": [],
   "source": [
    "res.to_csv('Test_Pred_Class_Cat.csv',index=False)"
   ]
  },
  {
   "cell_type": "code",
   "execution_count": null,
   "metadata": {
    "collapsed": true
   },
   "outputs": [],
   "source": []
  }
 ],
 "metadata": {
  "kernelspec": {
   "display_name": "Python 2",
   "language": "python",
   "name": "python2"
  },
  "language_info": {
   "codemirror_mode": {
    "name": "ipython",
    "version": 2
   },
   "file_extension": ".py",
   "mimetype": "text/x-python",
   "name": "python",
   "nbconvert_exporter": "python",
   "pygments_lexer": "ipython2",
   "version": "2.7.12"
  }
 },
 "nbformat": 4,
 "nbformat_minor": 2
}
